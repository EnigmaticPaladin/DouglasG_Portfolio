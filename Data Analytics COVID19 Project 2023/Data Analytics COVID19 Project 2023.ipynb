{
 "cells": [
  {
   "cell_type": "markdown",
   "id": "b825f56e",
   "metadata": {},
   "source": [
    "COVID 19 (2023) Project"
   ]
  },
  {
   "cell_type": "code",
   "execution_count": 51,
   "id": "8c3b875a",
   "metadata": {},
   "outputs": [],
   "source": [
    "import numpy as np\n",
    "import pandas as pd\n",
    "import os\n",
    "import urllib\n",
    "import matplotlib.pyplot as plt\n",
    "import seaborn as sns"
   ]
  },
  {
   "cell_type": "code",
   "execution_count": 4,
   "id": "9f7cf16b",
   "metadata": {},
   "outputs": [],
   "source": [
    "data = pd.read_csv(r\"C:\\Users\\Douglas Green\\Desktop\\PORTFOLIO\\COVID19 Project 2023\\WHO-COVID-19-global-data.csv\")"
   ]
  },
  {
   "cell_type": "code",
   "execution_count": 5,
   "id": "550a2fa4",
   "metadata": {},
   "outputs": [
    {
     "data": {
      "text/html": [
       "<div>\n",
       "<style scoped>\n",
       "    .dataframe tbody tr th:only-of-type {\n",
       "        vertical-align: middle;\n",
       "    }\n",
       "\n",
       "    .dataframe tbody tr th {\n",
       "        vertical-align: top;\n",
       "    }\n",
       "\n",
       "    .dataframe thead th {\n",
       "        text-align: right;\n",
       "    }\n",
       "</style>\n",
       "<table border=\"1\" class=\"dataframe\">\n",
       "  <thead>\n",
       "    <tr style=\"text-align: right;\">\n",
       "      <th></th>\n",
       "      <th>Date_reported</th>\n",
       "      <th>Country_code</th>\n",
       "      <th>Country</th>\n",
       "      <th>WHO_region</th>\n",
       "      <th>New_cases</th>\n",
       "      <th>Cumulative_cases</th>\n",
       "      <th>New_deaths</th>\n",
       "      <th>Cumulative_deaths</th>\n",
       "    </tr>\n",
       "  </thead>\n",
       "  <tbody>\n",
       "    <tr>\n",
       "      <th>0</th>\n",
       "      <td>1/3/2020</td>\n",
       "      <td>AF</td>\n",
       "      <td>Afghanistan</td>\n",
       "      <td>EMRO</td>\n",
       "      <td>0</td>\n",
       "      <td>0</td>\n",
       "      <td>0</td>\n",
       "      <td>0</td>\n",
       "    </tr>\n",
       "    <tr>\n",
       "      <th>1</th>\n",
       "      <td>1/4/2020</td>\n",
       "      <td>AF</td>\n",
       "      <td>Afghanistan</td>\n",
       "      <td>EMRO</td>\n",
       "      <td>0</td>\n",
       "      <td>0</td>\n",
       "      <td>0</td>\n",
       "      <td>0</td>\n",
       "    </tr>\n",
       "    <tr>\n",
       "      <th>2</th>\n",
       "      <td>1/5/2020</td>\n",
       "      <td>AF</td>\n",
       "      <td>Afghanistan</td>\n",
       "      <td>EMRO</td>\n",
       "      <td>0</td>\n",
       "      <td>0</td>\n",
       "      <td>0</td>\n",
       "      <td>0</td>\n",
       "    </tr>\n",
       "    <tr>\n",
       "      <th>3</th>\n",
       "      <td>1/6/2020</td>\n",
       "      <td>AF</td>\n",
       "      <td>Afghanistan</td>\n",
       "      <td>EMRO</td>\n",
       "      <td>0</td>\n",
       "      <td>0</td>\n",
       "      <td>0</td>\n",
       "      <td>0</td>\n",
       "    </tr>\n",
       "    <tr>\n",
       "      <th>4</th>\n",
       "      <td>1/7/2020</td>\n",
       "      <td>AF</td>\n",
       "      <td>Afghanistan</td>\n",
       "      <td>EMRO</td>\n",
       "      <td>0</td>\n",
       "      <td>0</td>\n",
       "      <td>0</td>\n",
       "      <td>0</td>\n",
       "    </tr>\n",
       "    <tr>\n",
       "      <th>...</th>\n",
       "      <td>...</td>\n",
       "      <td>...</td>\n",
       "      <td>...</td>\n",
       "      <td>...</td>\n",
       "      <td>...</td>\n",
       "      <td>...</td>\n",
       "      <td>...</td>\n",
       "      <td>...</td>\n",
       "    </tr>\n",
       "    <tr>\n",
       "      <th>305014</th>\n",
       "      <td>7/8/2023</td>\n",
       "      <td>ZW</td>\n",
       "      <td>Zimbabwe</td>\n",
       "      <td>AFRO</td>\n",
       "      <td>0</td>\n",
       "      <td>265604</td>\n",
       "      <td>0</td>\n",
       "      <td>5709</td>\n",
       "    </tr>\n",
       "    <tr>\n",
       "      <th>305015</th>\n",
       "      <td>7/9/2023</td>\n",
       "      <td>ZW</td>\n",
       "      <td>Zimbabwe</td>\n",
       "      <td>AFRO</td>\n",
       "      <td>0</td>\n",
       "      <td>265604</td>\n",
       "      <td>0</td>\n",
       "      <td>5709</td>\n",
       "    </tr>\n",
       "    <tr>\n",
       "      <th>305016</th>\n",
       "      <td>7/10/2023</td>\n",
       "      <td>ZW</td>\n",
       "      <td>Zimbabwe</td>\n",
       "      <td>AFRO</td>\n",
       "      <td>0</td>\n",
       "      <td>265604</td>\n",
       "      <td>0</td>\n",
       "      <td>5709</td>\n",
       "    </tr>\n",
       "    <tr>\n",
       "      <th>305017</th>\n",
       "      <td>7/11/2023</td>\n",
       "      <td>ZW</td>\n",
       "      <td>Zimbabwe</td>\n",
       "      <td>AFRO</td>\n",
       "      <td>0</td>\n",
       "      <td>265604</td>\n",
       "      <td>0</td>\n",
       "      <td>5709</td>\n",
       "    </tr>\n",
       "    <tr>\n",
       "      <th>305018</th>\n",
       "      <td>7/12/2023</td>\n",
       "      <td>ZW</td>\n",
       "      <td>Zimbabwe</td>\n",
       "      <td>AFRO</td>\n",
       "      <td>0</td>\n",
       "      <td>265604</td>\n",
       "      <td>0</td>\n",
       "      <td>5709</td>\n",
       "    </tr>\n",
       "  </tbody>\n",
       "</table>\n",
       "<p>305019 rows × 8 columns</p>\n",
       "</div>"
      ],
      "text/plain": [
       "       Date_reported Country_code      Country WHO_region  New_cases  \\\n",
       "0           1/3/2020           AF  Afghanistan       EMRO          0   \n",
       "1           1/4/2020           AF  Afghanistan       EMRO          0   \n",
       "2           1/5/2020           AF  Afghanistan       EMRO          0   \n",
       "3           1/6/2020           AF  Afghanistan       EMRO          0   \n",
       "4           1/7/2020           AF  Afghanistan       EMRO          0   \n",
       "...              ...          ...          ...        ...        ...   \n",
       "305014      7/8/2023           ZW     Zimbabwe       AFRO          0   \n",
       "305015      7/9/2023           ZW     Zimbabwe       AFRO          0   \n",
       "305016     7/10/2023           ZW     Zimbabwe       AFRO          0   \n",
       "305017     7/11/2023           ZW     Zimbabwe       AFRO          0   \n",
       "305018     7/12/2023           ZW     Zimbabwe       AFRO          0   \n",
       "\n",
       "        Cumulative_cases  New_deaths  Cumulative_deaths  \n",
       "0                      0           0                  0  \n",
       "1                      0           0                  0  \n",
       "2                      0           0                  0  \n",
       "3                      0           0                  0  \n",
       "4                      0           0                  0  \n",
       "...                  ...         ...                ...  \n",
       "305014            265604           0               5709  \n",
       "305015            265604           0               5709  \n",
       "305016            265604           0               5709  \n",
       "305017            265604           0               5709  \n",
       "305018            265604           0               5709  \n",
       "\n",
       "[305019 rows x 8 columns]"
      ]
     },
     "execution_count": 5,
     "metadata": {},
     "output_type": "execute_result"
    }
   ],
   "source": [
    "data"
   ]
  },
  {
   "cell_type": "code",
   "execution_count": 6,
   "id": "cffe7945",
   "metadata": {},
   "outputs": [
    {
     "data": {
      "text/plain": [
       "RangeIndex(start=0, stop=305019, step=1)"
      ]
     },
     "execution_count": 6,
     "metadata": {},
     "output_type": "execute_result"
    }
   ],
   "source": [
    "data_index = data.index\n",
    "data_index"
   ]
  },
  {
   "cell_type": "code",
   "execution_count": 7,
   "id": "aeb6e44b",
   "metadata": {},
   "outputs": [
    {
     "data": {
      "text/plain": [
       "Index(['Date_reported', 'Country_code', 'Country', 'WHO_region', 'New_cases',\n",
       "       'Cumulative_cases', 'New_deaths', 'Cumulative_deaths'],\n",
       "      dtype='object')"
      ]
     },
     "execution_count": 7,
     "metadata": {},
     "output_type": "execute_result"
    }
   ],
   "source": [
    "data_cols = data.columns\n",
    "data_cols"
   ]
  },
  {
   "cell_type": "code",
   "execution_count": 8,
   "id": "b3584b8a",
   "metadata": {},
   "outputs": [
    {
     "data": {
      "text/plain": [
       "array([     0,      1,      2, ..., 305016, 305017, 305018], dtype=int64)"
      ]
     },
     "execution_count": 8,
     "metadata": {},
     "output_type": "execute_result"
    }
   ],
   "source": [
    "data_index.values"
   ]
  },
  {
   "cell_type": "code",
   "execution_count": 10,
   "id": "604b1d20",
   "metadata": {},
   "outputs": [
    {
     "data": {
      "text/plain": [
       "array([['1/3/2020', 'AF', 'Afghanistan', ..., 0, 0, 0],\n",
       "       ['1/4/2020', 'AF', 'Afghanistan', ..., 0, 0, 0],\n",
       "       ['1/5/2020', 'AF', 'Afghanistan', ..., 0, 0, 0],\n",
       "       ...,\n",
       "       ['7/10/2023', 'ZW', 'Zimbabwe', ..., 265604, 0, 5709],\n",
       "       ['7/11/2023', 'ZW', 'Zimbabwe', ..., 265604, 0, 5709],\n",
       "       ['7/12/2023', 'ZW', 'Zimbabwe', ..., 265604, 0, 5709]],\n",
       "      dtype=object)"
      ]
     },
     "execution_count": 10,
     "metadata": {},
     "output_type": "execute_result"
    }
   ],
   "source": [
    "data.values"
   ]
  },
  {
   "cell_type": "code",
   "execution_count": 11,
   "id": "e76900cf",
   "metadata": {},
   "outputs": [
    {
     "data": {
      "text/plain": [
       "Date_reported        object\n",
       "Country_code         object\n",
       "Country              object\n",
       "WHO_region           object\n",
       "New_cases             int64\n",
       "Cumulative_cases      int64\n",
       "New_deaths            int64\n",
       "Cumulative_deaths     int64\n",
       "dtype: object"
      ]
     },
     "execution_count": 11,
     "metadata": {},
     "output_type": "execute_result"
    }
   ],
   "source": [
    "data.dtypes"
   ]
  },
  {
   "cell_type": "code",
   "execution_count": 12,
   "id": "a07fc910",
   "metadata": {},
   "outputs": [
    {
     "data": {
      "text/plain": [
       "(305019, 8)"
      ]
     },
     "execution_count": 12,
     "metadata": {},
     "output_type": "execute_result"
    }
   ],
   "source": [
    "data.shape"
   ]
  },
  {
   "cell_type": "code",
   "execution_count": 13,
   "id": "6dbb87bc",
   "metadata": {},
   "outputs": [
    {
     "data": {
      "text/plain": [
       "(305019, 8)"
      ]
     },
     "execution_count": 13,
     "metadata": {},
     "output_type": "execute_result"
    }
   ],
   "source": [
    "data.shape\n"
   ]
  },
  {
   "cell_type": "code",
   "execution_count": 17,
   "id": "c0061bfe",
   "metadata": {},
   "outputs": [
    {
     "data": {
      "text/html": [
       "<div>\n",
       "<style scoped>\n",
       "    .dataframe tbody tr th:only-of-type {\n",
       "        vertical-align: middle;\n",
       "    }\n",
       "\n",
       "    .dataframe tbody tr th {\n",
       "        vertical-align: top;\n",
       "    }\n",
       "\n",
       "    .dataframe thead th {\n",
       "        text-align: right;\n",
       "    }\n",
       "</style>\n",
       "<table border=\"1\" class=\"dataframe\">\n",
       "  <thead>\n",
       "    <tr style=\"text-align: right;\">\n",
       "      <th></th>\n",
       "      <th>Date_reported</th>\n",
       "      <th>Country_code</th>\n",
       "      <th>Country</th>\n",
       "      <th>WHO_region</th>\n",
       "      <th>New_cases</th>\n",
       "      <th>Cumulative_cases</th>\n",
       "      <th>New_deaths</th>\n",
       "      <th>Cumulative_deaths</th>\n",
       "    </tr>\n",
       "  </thead>\n",
       "  <tbody>\n",
       "    <tr>\n",
       "      <th>0</th>\n",
       "      <td>1/3/2020</td>\n",
       "      <td>AF</td>\n",
       "      <td>Afghanistan</td>\n",
       "      <td>EMRO</td>\n",
       "      <td>0</td>\n",
       "      <td>0</td>\n",
       "      <td>0</td>\n",
       "      <td>0</td>\n",
       "    </tr>\n",
       "    <tr>\n",
       "      <th>1</th>\n",
       "      <td>1/4/2020</td>\n",
       "      <td>AF</td>\n",
       "      <td>Afghanistan</td>\n",
       "      <td>EMRO</td>\n",
       "      <td>0</td>\n",
       "      <td>0</td>\n",
       "      <td>0</td>\n",
       "      <td>0</td>\n",
       "    </tr>\n",
       "    <tr>\n",
       "      <th>2</th>\n",
       "      <td>1/5/2020</td>\n",
       "      <td>AF</td>\n",
       "      <td>Afghanistan</td>\n",
       "      <td>EMRO</td>\n",
       "      <td>0</td>\n",
       "      <td>0</td>\n",
       "      <td>0</td>\n",
       "      <td>0</td>\n",
       "    </tr>\n",
       "    <tr>\n",
       "      <th>3</th>\n",
       "      <td>1/6/2020</td>\n",
       "      <td>AF</td>\n",
       "      <td>Afghanistan</td>\n",
       "      <td>EMRO</td>\n",
       "      <td>0</td>\n",
       "      <td>0</td>\n",
       "      <td>0</td>\n",
       "      <td>0</td>\n",
       "    </tr>\n",
       "    <tr>\n",
       "      <th>4</th>\n",
       "      <td>1/7/2020</td>\n",
       "      <td>AF</td>\n",
       "      <td>Afghanistan</td>\n",
       "      <td>EMRO</td>\n",
       "      <td>0</td>\n",
       "      <td>0</td>\n",
       "      <td>0</td>\n",
       "      <td>0</td>\n",
       "    </tr>\n",
       "  </tbody>\n",
       "</table>\n",
       "</div>"
      ],
      "text/plain": [
       "  Date_reported Country_code      Country WHO_region  New_cases  \\\n",
       "0      1/3/2020           AF  Afghanistan       EMRO          0   \n",
       "1      1/4/2020           AF  Afghanistan       EMRO          0   \n",
       "2      1/5/2020           AF  Afghanistan       EMRO          0   \n",
       "3      1/6/2020           AF  Afghanistan       EMRO          0   \n",
       "4      1/7/2020           AF  Afghanistan       EMRO          0   \n",
       "\n",
       "   Cumulative_cases  New_deaths  Cumulative_deaths  \n",
       "0                 0           0                  0  \n",
       "1                 0           0                  0  \n",
       "2                 0           0                  0  \n",
       "3                 0           0                  0  \n",
       "4                 0           0                  0  "
      ]
     },
     "execution_count": 17,
     "metadata": {},
     "output_type": "execute_result"
    }
   ],
   "source": [
    "data.head()"
   ]
  },
  {
   "cell_type": "code",
   "execution_count": 18,
   "id": "227c9614",
   "metadata": {},
   "outputs": [
    {
     "data": {
      "text/html": [
       "<div>\n",
       "<style scoped>\n",
       "    .dataframe tbody tr th:only-of-type {\n",
       "        vertical-align: middle;\n",
       "    }\n",
       "\n",
       "    .dataframe tbody tr th {\n",
       "        vertical-align: top;\n",
       "    }\n",
       "\n",
       "    .dataframe thead th {\n",
       "        text-align: right;\n",
       "    }\n",
       "</style>\n",
       "<table border=\"1\" class=\"dataframe\">\n",
       "  <thead>\n",
       "    <tr style=\"text-align: right;\">\n",
       "      <th></th>\n",
       "      <th>Date_reported</th>\n",
       "      <th>Country_code</th>\n",
       "      <th>Country</th>\n",
       "      <th>WHO_region</th>\n",
       "      <th>New_cases</th>\n",
       "      <th>Cumulative_cases</th>\n",
       "      <th>New_deaths</th>\n",
       "      <th>Cumulative_deaths</th>\n",
       "    </tr>\n",
       "  </thead>\n",
       "  <tbody>\n",
       "    <tr>\n",
       "      <th>305014</th>\n",
       "      <td>7/8/2023</td>\n",
       "      <td>ZW</td>\n",
       "      <td>Zimbabwe</td>\n",
       "      <td>AFRO</td>\n",
       "      <td>0</td>\n",
       "      <td>265604</td>\n",
       "      <td>0</td>\n",
       "      <td>5709</td>\n",
       "    </tr>\n",
       "    <tr>\n",
       "      <th>305015</th>\n",
       "      <td>7/9/2023</td>\n",
       "      <td>ZW</td>\n",
       "      <td>Zimbabwe</td>\n",
       "      <td>AFRO</td>\n",
       "      <td>0</td>\n",
       "      <td>265604</td>\n",
       "      <td>0</td>\n",
       "      <td>5709</td>\n",
       "    </tr>\n",
       "    <tr>\n",
       "      <th>305016</th>\n",
       "      <td>7/10/2023</td>\n",
       "      <td>ZW</td>\n",
       "      <td>Zimbabwe</td>\n",
       "      <td>AFRO</td>\n",
       "      <td>0</td>\n",
       "      <td>265604</td>\n",
       "      <td>0</td>\n",
       "      <td>5709</td>\n",
       "    </tr>\n",
       "    <tr>\n",
       "      <th>305017</th>\n",
       "      <td>7/11/2023</td>\n",
       "      <td>ZW</td>\n",
       "      <td>Zimbabwe</td>\n",
       "      <td>AFRO</td>\n",
       "      <td>0</td>\n",
       "      <td>265604</td>\n",
       "      <td>0</td>\n",
       "      <td>5709</td>\n",
       "    </tr>\n",
       "    <tr>\n",
       "      <th>305018</th>\n",
       "      <td>7/12/2023</td>\n",
       "      <td>ZW</td>\n",
       "      <td>Zimbabwe</td>\n",
       "      <td>AFRO</td>\n",
       "      <td>0</td>\n",
       "      <td>265604</td>\n",
       "      <td>0</td>\n",
       "      <td>5709</td>\n",
       "    </tr>\n",
       "  </tbody>\n",
       "</table>\n",
       "</div>"
      ],
      "text/plain": [
       "       Date_reported Country_code   Country WHO_region  New_cases  \\\n",
       "305014      7/8/2023           ZW  Zimbabwe       AFRO          0   \n",
       "305015      7/9/2023           ZW  Zimbabwe       AFRO          0   \n",
       "305016     7/10/2023           ZW  Zimbabwe       AFRO          0   \n",
       "305017     7/11/2023           ZW  Zimbabwe       AFRO          0   \n",
       "305018     7/12/2023           ZW  Zimbabwe       AFRO          0   \n",
       "\n",
       "        Cumulative_cases  New_deaths  Cumulative_deaths  \n",
       "305014            265604           0               5709  \n",
       "305015            265604           0               5709  \n",
       "305016            265604           0               5709  \n",
       "305017            265604           0               5709  \n",
       "305018            265604           0               5709  "
      ]
     },
     "execution_count": 18,
     "metadata": {},
     "output_type": "execute_result"
    }
   ],
   "source": [
    "data.tail()"
   ]
  },
  {
   "cell_type": "code",
   "execution_count": 19,
   "id": "a874be18",
   "metadata": {},
   "outputs": [
    {
     "name": "stdout",
     "output_type": "stream",
     "text": [
      "<class 'pandas.core.frame.DataFrame'>\n",
      "RangeIndex: 305019 entries, 0 to 305018\n",
      "Data columns (total 8 columns):\n",
      " #   Column             Non-Null Count   Dtype \n",
      "---  ------             --------------   ----- \n",
      " 0   Date_reported      305019 non-null  object\n",
      " 1   Country_code       303732 non-null  object\n",
      " 2   Country            305019 non-null  object\n",
      " 3   WHO_region         305019 non-null  object\n",
      " 4   New_cases          305019 non-null  int64 \n",
      " 5   Cumulative_cases   305019 non-null  int64 \n",
      " 6   New_deaths         305019 non-null  int64 \n",
      " 7   Cumulative_deaths  305019 non-null  int64 \n",
      "dtypes: int64(4), object(4)\n",
      "memory usage: 18.6+ MB\n"
     ]
    }
   ],
   "source": [
    "data.info()"
   ]
  },
  {
   "cell_type": "code",
   "execution_count": 20,
   "id": "57b9d8cf",
   "metadata": {},
   "outputs": [
    {
     "data": {
      "text/html": [
       "<div>\n",
       "<style scoped>\n",
       "    .dataframe tbody tr th:only-of-type {\n",
       "        vertical-align: middle;\n",
       "    }\n",
       "\n",
       "    .dataframe tbody tr th {\n",
       "        vertical-align: top;\n",
       "    }\n",
       "\n",
       "    .dataframe thead th {\n",
       "        text-align: right;\n",
       "    }\n",
       "</style>\n",
       "<table border=\"1\" class=\"dataframe\">\n",
       "  <thead>\n",
       "    <tr style=\"text-align: right;\">\n",
       "      <th></th>\n",
       "      <th>New_cases</th>\n",
       "      <th>Cumulative_cases</th>\n",
       "      <th>New_deaths</th>\n",
       "      <th>Cumulative_deaths</th>\n",
       "    </tr>\n",
       "  </thead>\n",
       "  <tbody>\n",
       "    <tr>\n",
       "      <th>count</th>\n",
       "      <td>3.050190e+05</td>\n",
       "      <td>3.050190e+05</td>\n",
       "      <td>305019.000000</td>\n",
       "      <td>3.050190e+05</td>\n",
       "    </tr>\n",
       "    <tr>\n",
       "      <th>mean</th>\n",
       "      <td>2.517787e+03</td>\n",
       "      <td>1.366308e+06</td>\n",
       "      <td>22.787613</td>\n",
       "      <td>1.737556e+04</td>\n",
       "    </tr>\n",
       "    <tr>\n",
       "      <th>std</th>\n",
       "      <td>4.033662e+04</td>\n",
       "      <td>6.326738e+06</td>\n",
       "      <td>153.310564</td>\n",
       "      <td>7.363422e+04</td>\n",
       "    </tr>\n",
       "    <tr>\n",
       "      <th>min</th>\n",
       "      <td>-8.261000e+03</td>\n",
       "      <td>0.000000e+00</td>\n",
       "      <td>-3520.000000</td>\n",
       "      <td>0.000000e+00</td>\n",
       "    </tr>\n",
       "    <tr>\n",
       "      <th>25%</th>\n",
       "      <td>0.000000e+00</td>\n",
       "      <td>1.923000e+03</td>\n",
       "      <td>0.000000</td>\n",
       "      <td>1.500000e+01</td>\n",
       "    </tr>\n",
       "    <tr>\n",
       "      <th>50%</th>\n",
       "      <td>2.000000e+00</td>\n",
       "      <td>3.280200e+04</td>\n",
       "      <td>0.000000</td>\n",
       "      <td>3.610000e+02</td>\n",
       "    </tr>\n",
       "    <tr>\n",
       "      <th>75%</th>\n",
       "      <td>1.950000e+02</td>\n",
       "      <td>3.801665e+05</td>\n",
       "      <td>2.000000</td>\n",
       "      <td>5.602500e+03</td>\n",
       "    </tr>\n",
       "    <tr>\n",
       "      <th>max</th>\n",
       "      <td>6.966046e+06</td>\n",
       "      <td>1.034368e+08</td>\n",
       "      <td>11447.000000</td>\n",
       "      <td>1.127152e+06</td>\n",
       "    </tr>\n",
       "  </tbody>\n",
       "</table>\n",
       "</div>"
      ],
      "text/plain": [
       "          New_cases  Cumulative_cases     New_deaths  Cumulative_deaths\n",
       "count  3.050190e+05      3.050190e+05  305019.000000       3.050190e+05\n",
       "mean   2.517787e+03      1.366308e+06      22.787613       1.737556e+04\n",
       "std    4.033662e+04      6.326738e+06     153.310564       7.363422e+04\n",
       "min   -8.261000e+03      0.000000e+00   -3520.000000       0.000000e+00\n",
       "25%    0.000000e+00      1.923000e+03       0.000000       1.500000e+01\n",
       "50%    2.000000e+00      3.280200e+04       0.000000       3.610000e+02\n",
       "75%    1.950000e+02      3.801665e+05       2.000000       5.602500e+03\n",
       "max    6.966046e+06      1.034368e+08   11447.000000       1.127152e+06"
      ]
     },
     "execution_count": 20,
     "metadata": {},
     "output_type": "execute_result"
    }
   ],
   "source": [
    "data.describe()"
   ]
  },
  {
   "cell_type": "code",
   "execution_count": 22,
   "id": "da1be418",
   "metadata": {},
   "outputs": [
    {
     "data": {
      "text/plain": [
       "0         Afghanistan\n",
       "1         Afghanistan\n",
       "2         Afghanistan\n",
       "3         Afghanistan\n",
       "4         Afghanistan\n",
       "             ...     \n",
       "305014       Zimbabwe\n",
       "305015       Zimbabwe\n",
       "305016       Zimbabwe\n",
       "305017       Zimbabwe\n",
       "305018       Zimbabwe\n",
       "Name: Country, Length: 305019, dtype: object"
      ]
     },
     "execution_count": 22,
     "metadata": {},
     "output_type": "execute_result"
    }
   ],
   "source": [
    "data[\"Country\"]"
   ]
  },
  {
   "cell_type": "code",
   "execution_count": 23,
   "id": "56876265",
   "metadata": {},
   "outputs": [
    {
     "data": {
      "text/plain": [
       "array(['Afghanistan', 'Albania', 'Algeria', 'American Samoa', 'Andorra',\n",
       "       'Angola', 'Anguilla', 'Antigua and Barbuda', 'Argentina',\n",
       "       'Armenia', 'Aruba', 'Australia', 'Austria', 'Azerbaijan',\n",
       "       'Bahamas', 'Bahrain', 'Bangladesh', 'Barbados', 'Belarus',\n",
       "       'Belgium', 'Belize', 'Benin', 'Bermuda', 'Bhutan',\n",
       "       'Bolivia (Plurinational State of)', 'Bonaire',\n",
       "       'Bosnia and Herzegovina', 'Botswana', 'Brazil',\n",
       "       'British Virgin Islands', 'Brunei Darussalam', 'Bulgaria',\n",
       "       'Burkina Faso', 'Burundi', 'Cabo Verde', 'Cambodia', 'Cameroon',\n",
       "       'Canada', 'Cayman Islands', 'Central African Republic', 'Chad',\n",
       "       'Chile', 'China', 'Colombia', 'Comoros', 'Congo', 'Cook Islands',\n",
       "       'Costa Rica', 'Côte d’Ivoire', 'Croatia', 'Cuba', 'Curaçao',\n",
       "       'Cyprus', 'Czechia', \"Democratic People's Republic of Korea\",\n",
       "       'Democratic Republic of the Congo', 'Denmark', 'Djibouti',\n",
       "       'Dominica', 'Dominican Republic', 'Ecuador', 'Egypt',\n",
       "       'El Salvador', 'Equatorial Guinea', 'Eritrea', 'Estonia',\n",
       "       'Eswatini', 'Ethiopia', 'Falkland Islands (Malvinas)',\n",
       "       'Faroe Islands', 'Fiji', 'Finland', 'France', 'French Guiana',\n",
       "       'French Polynesia', 'Gabon', 'Gambia', 'Georgia', 'Germany',\n",
       "       'Ghana', 'Gibraltar', 'Greece', 'Greenland', 'Grenada',\n",
       "       'Guadeloupe', 'Guam', 'Guatemala', 'Guernsey', 'Guinea',\n",
       "       'Guinea-Bissau', 'Guyana', 'Haiti', 'Holy See', 'Honduras',\n",
       "       'Hungary', 'Iceland', 'India', 'Indonesia',\n",
       "       'Iran (Islamic Republic of)', 'Iraq', 'Ireland', 'Isle of Man',\n",
       "       'Israel', 'Italy', 'Jamaica', 'Japan', 'Jersey', 'Jordan',\n",
       "       'Kazakhstan', 'Kenya', 'Kiribati', 'Kosovo[1]', 'Kuwait',\n",
       "       'Kyrgyzstan', \"Lao People's Democratic Republic\", 'Latvia',\n",
       "       'Lebanon', 'Lesotho', 'Liberia', 'Libya', 'Liechtenstein',\n",
       "       'Lithuania', 'Luxembourg', 'Madagascar', 'Malawi', 'Malaysia',\n",
       "       'Maldives', 'Mali', 'Malta', 'Marshall Islands', 'Martinique',\n",
       "       'Mauritania', 'Mauritius', 'Mayotte', 'Mexico',\n",
       "       'Micronesia (Federated States of)', 'Monaco', 'Mongolia',\n",
       "       'Montenegro', 'Montserrat', 'Morocco', 'Mozambique', 'Myanmar',\n",
       "       'Namibia', 'Nauru', 'Nepal', 'Netherlands', 'New Caledonia',\n",
       "       'New Zealand', 'Nicaragua', 'Niger', 'Nigeria', 'Niue',\n",
       "       'North Macedonia',\n",
       "       'Northern Mariana Islands (Commonwealth of the)', 'Norway',\n",
       "       'occupied Palestinian territory, including east Jerusalem', 'Oman',\n",
       "       'Other', 'Pakistan', 'Palau', 'Panama', 'Papua New Guinea',\n",
       "       'Paraguay', 'Peru', 'Philippines', 'Pitcairn Islands', 'Poland',\n",
       "       'Portugal', 'Puerto Rico', 'Qatar', 'Republic of Korea',\n",
       "       'Republic of Moldova', 'Réunion', 'Romania', 'Russian Federation',\n",
       "       'Rwanda', 'Saba', 'Saint Barthélemy',\n",
       "       'Saint Helena, Ascension and Tristan da Cunha',\n",
       "       'Saint Kitts and Nevis', 'Saint Lucia', 'Saint Martin',\n",
       "       'Saint Pierre and Miquelon', 'Saint Vincent and the Grenadines',\n",
       "       'Samoa', 'San Marino', 'Sao Tome and Principe', 'Saudi Arabia',\n",
       "       'Senegal', 'Serbia', 'Seychelles', 'Sierra Leone', 'Singapore',\n",
       "       'Sint Eustatius', 'Sint Maarten', 'Slovakia', 'Slovenia',\n",
       "       'Solomon Islands', 'Somalia', 'South Africa', 'South Sudan',\n",
       "       'Spain', 'Sri Lanka', 'Sudan', 'Suriname', 'Sweden', 'Switzerland',\n",
       "       'Syrian Arab Republic', 'Tajikistan', 'Thailand',\n",
       "       'The United Kingdom', 'Timor-Leste', 'Togo', 'Tokelau', 'Tonga',\n",
       "       'Trinidad and Tobago', 'Tunisia', 'Türkiye', 'Turkmenistan',\n",
       "       'Turks and Caicos Islands', 'Tuvalu', 'Uganda', 'Ukraine',\n",
       "       'United Arab Emirates', 'United Republic of Tanzania',\n",
       "       'United States of America', 'United States Virgin Islands',\n",
       "       'Uruguay', 'Uzbekistan', 'Vanuatu',\n",
       "       'Venezuela (Bolivarian Republic of)', 'Viet Nam',\n",
       "       'Wallis and Futuna', 'Yemen', 'Zambia', 'Zimbabwe'], dtype=object)"
      ]
     },
     "execution_count": 23,
     "metadata": {},
     "output_type": "execute_result"
    }
   ],
   "source": [
    "data[\"Country\"].unique()"
   ]
  },
  {
   "cell_type": "code",
   "execution_count": 24,
   "id": "903a0572",
   "metadata": {},
   "outputs": [
    {
     "data": {
      "text/plain": [
       "Index(['Date_reported', 'Country_code', 'Country', 'WHO_region', 'New_cases',\n",
       "       'Cumulative_cases', 'New_deaths', 'Cumulative_deaths'],\n",
       "      dtype='object')"
      ]
     },
     "execution_count": 24,
     "metadata": {},
     "output_type": "execute_result"
    }
   ],
   "source": [
    "data.columns = [col.strip() for col in data.columns]\n",
    "data.columns"
   ]
  },
  {
   "cell_type": "code",
   "execution_count": 25,
   "id": "e376a6cd",
   "metadata": {},
   "outputs": [
    {
     "data": {
      "text/plain": [
       "0         Afghanistan\n",
       "1         Afghanistan\n",
       "2         Afghanistan\n",
       "3         Afghanistan\n",
       "4         Afghanistan\n",
       "             ...     \n",
       "305014       Zimbabwe\n",
       "305015       Zimbabwe\n",
       "305016       Zimbabwe\n",
       "305017       Zimbabwe\n",
       "305018       Zimbabwe\n",
       "Name: Country, Length: 305019, dtype: object"
      ]
     },
     "execution_count": 25,
     "metadata": {},
     "output_type": "execute_result"
    }
   ],
   "source": [
    "data.Country"
   ]
  },
  {
   "cell_type": "code",
   "execution_count": 26,
   "id": "d7c9b3b5",
   "metadata": {},
   "outputs": [
    {
     "data": {
      "text/plain": [
       "1    Afghanistan\n",
       "2    Afghanistan\n",
       "3    Afghanistan\n",
       "4    Afghanistan\n",
       "Name: Country, dtype: object"
      ]
     },
     "execution_count": 26,
     "metadata": {},
     "output_type": "execute_result"
    }
   ],
   "source": [
    "data.loc[1:4, 'Country']"
   ]
  },
  {
   "cell_type": "code",
   "execution_count": 27,
   "id": "83c50a18",
   "metadata": {},
   "outputs": [
    {
     "data": {
      "text/html": [
       "<div>\n",
       "<style scoped>\n",
       "    .dataframe tbody tr th:only-of-type {\n",
       "        vertical-align: middle;\n",
       "    }\n",
       "\n",
       "    .dataframe tbody tr th {\n",
       "        vertical-align: top;\n",
       "    }\n",
       "\n",
       "    .dataframe thead th {\n",
       "        text-align: right;\n",
       "    }\n",
       "</style>\n",
       "<table border=\"1\" class=\"dataframe\">\n",
       "  <thead>\n",
       "    <tr style=\"text-align: right;\">\n",
       "      <th></th>\n",
       "      <th>Country</th>\n",
       "      <th>New_cases</th>\n",
       "    </tr>\n",
       "  </thead>\n",
       "  <tbody>\n",
       "    <tr>\n",
       "      <th>1</th>\n",
       "      <td>Afghanistan</td>\n",
       "      <td>0</td>\n",
       "    </tr>\n",
       "    <tr>\n",
       "      <th>2</th>\n",
       "      <td>Afghanistan</td>\n",
       "      <td>0</td>\n",
       "    </tr>\n",
       "    <tr>\n",
       "      <th>3</th>\n",
       "      <td>Afghanistan</td>\n",
       "      <td>0</td>\n",
       "    </tr>\n",
       "    <tr>\n",
       "      <th>4</th>\n",
       "      <td>Afghanistan</td>\n",
       "      <td>0</td>\n",
       "    </tr>\n",
       "    <tr>\n",
       "      <th>5</th>\n",
       "      <td>Afghanistan</td>\n",
       "      <td>0</td>\n",
       "    </tr>\n",
       "    <tr>\n",
       "      <th>6</th>\n",
       "      <td>Afghanistan</td>\n",
       "      <td>0</td>\n",
       "    </tr>\n",
       "    <tr>\n",
       "      <th>7</th>\n",
       "      <td>Afghanistan</td>\n",
       "      <td>0</td>\n",
       "    </tr>\n",
       "    <tr>\n",
       "      <th>8</th>\n",
       "      <td>Afghanistan</td>\n",
       "      <td>0</td>\n",
       "    </tr>\n",
       "  </tbody>\n",
       "</table>\n",
       "</div>"
      ],
      "text/plain": [
       "       Country  New_cases\n",
       "1  Afghanistan          0\n",
       "2  Afghanistan          0\n",
       "3  Afghanistan          0\n",
       "4  Afghanistan          0\n",
       "5  Afghanistan          0\n",
       "6  Afghanistan          0\n",
       "7  Afghanistan          0\n",
       "8  Afghanistan          0"
      ]
     },
     "execution_count": 27,
     "metadata": {},
     "output_type": "execute_result"
    }
   ],
   "source": [
    "data.loc[1:8,['Country', 'New_cases']]"
   ]
  },
  {
   "cell_type": "code",
   "execution_count": 28,
   "id": "70c88e9a",
   "metadata": {},
   "outputs": [
    {
     "data": {
      "text/plain": [
       "0         False\n",
       "1         False\n",
       "2         False\n",
       "3         False\n",
       "4         False\n",
       "          ...  \n",
       "305014    False\n",
       "305015    False\n",
       "305016    False\n",
       "305017    False\n",
       "305018    False\n",
       "Name: Country, Length: 305019, dtype: bool"
      ]
     },
     "execution_count": 28,
     "metadata": {},
     "output_type": "execute_result"
    }
   ],
   "source": [
    "data.Country == 'United States of America'"
   ]
  },
  {
   "cell_type": "code",
   "execution_count": 29,
   "id": "897a8331",
   "metadata": {},
   "outputs": [
    {
     "data": {
      "text/html": [
       "<div>\n",
       "<style scoped>\n",
       "    .dataframe tbody tr th:only-of-type {\n",
       "        vertical-align: middle;\n",
       "    }\n",
       "\n",
       "    .dataframe tbody tr th {\n",
       "        vertical-align: top;\n",
       "    }\n",
       "\n",
       "    .dataframe thead th {\n",
       "        text-align: right;\n",
       "    }\n",
       "</style>\n",
       "<table border=\"1\" class=\"dataframe\">\n",
       "  <thead>\n",
       "    <tr style=\"text-align: right;\">\n",
       "      <th></th>\n",
       "      <th>Date_reported</th>\n",
       "      <th>Country_code</th>\n",
       "      <th>Country</th>\n",
       "      <th>WHO_region</th>\n",
       "      <th>New_cases</th>\n",
       "      <th>Cumulative_cases</th>\n",
       "      <th>New_deaths</th>\n",
       "      <th>Cumulative_deaths</th>\n",
       "    </tr>\n",
       "  </thead>\n",
       "  <tbody>\n",
       "    <tr>\n",
       "      <th>290862</th>\n",
       "      <td>1/3/2020</td>\n",
       "      <td>US</td>\n",
       "      <td>United States of America</td>\n",
       "      <td>AMRO</td>\n",
       "      <td>0</td>\n",
       "      <td>0</td>\n",
       "      <td>0</td>\n",
       "      <td>0</td>\n",
       "    </tr>\n",
       "    <tr>\n",
       "      <th>290863</th>\n",
       "      <td>1/4/2020</td>\n",
       "      <td>US</td>\n",
       "      <td>United States of America</td>\n",
       "      <td>AMRO</td>\n",
       "      <td>0</td>\n",
       "      <td>0</td>\n",
       "      <td>0</td>\n",
       "      <td>0</td>\n",
       "    </tr>\n",
       "    <tr>\n",
       "      <th>290864</th>\n",
       "      <td>1/5/2020</td>\n",
       "      <td>US</td>\n",
       "      <td>United States of America</td>\n",
       "      <td>AMRO</td>\n",
       "      <td>0</td>\n",
       "      <td>0</td>\n",
       "      <td>0</td>\n",
       "      <td>0</td>\n",
       "    </tr>\n",
       "    <tr>\n",
       "      <th>290865</th>\n",
       "      <td>1/6/2020</td>\n",
       "      <td>US</td>\n",
       "      <td>United States of America</td>\n",
       "      <td>AMRO</td>\n",
       "      <td>0</td>\n",
       "      <td>0</td>\n",
       "      <td>0</td>\n",
       "      <td>0</td>\n",
       "    </tr>\n",
       "    <tr>\n",
       "      <th>290866</th>\n",
       "      <td>1/7/2020</td>\n",
       "      <td>US</td>\n",
       "      <td>United States of America</td>\n",
       "      <td>AMRO</td>\n",
       "      <td>0</td>\n",
       "      <td>0</td>\n",
       "      <td>0</td>\n",
       "      <td>0</td>\n",
       "    </tr>\n",
       "    <tr>\n",
       "      <th>...</th>\n",
       "      <td>...</td>\n",
       "      <td>...</td>\n",
       "      <td>...</td>\n",
       "      <td>...</td>\n",
       "      <td>...</td>\n",
       "      <td>...</td>\n",
       "      <td>...</td>\n",
       "      <td>...</td>\n",
       "    </tr>\n",
       "    <tr>\n",
       "      <th>292144</th>\n",
       "      <td>7/8/2023</td>\n",
       "      <td>US</td>\n",
       "      <td>United States of America</td>\n",
       "      <td>AMRO</td>\n",
       "      <td>0</td>\n",
       "      <td>103436829</td>\n",
       "      <td>0</td>\n",
       "      <td>1127152</td>\n",
       "    </tr>\n",
       "    <tr>\n",
       "      <th>292145</th>\n",
       "      <td>7/9/2023</td>\n",
       "      <td>US</td>\n",
       "      <td>United States of America</td>\n",
       "      <td>AMRO</td>\n",
       "      <td>0</td>\n",
       "      <td>103436829</td>\n",
       "      <td>0</td>\n",
       "      <td>1127152</td>\n",
       "    </tr>\n",
       "    <tr>\n",
       "      <th>292146</th>\n",
       "      <td>7/10/2023</td>\n",
       "      <td>US</td>\n",
       "      <td>United States of America</td>\n",
       "      <td>AMRO</td>\n",
       "      <td>0</td>\n",
       "      <td>103436829</td>\n",
       "      <td>0</td>\n",
       "      <td>1127152</td>\n",
       "    </tr>\n",
       "    <tr>\n",
       "      <th>292147</th>\n",
       "      <td>7/11/2023</td>\n",
       "      <td>US</td>\n",
       "      <td>United States of America</td>\n",
       "      <td>AMRO</td>\n",
       "      <td>0</td>\n",
       "      <td>103436829</td>\n",
       "      <td>0</td>\n",
       "      <td>1127152</td>\n",
       "    </tr>\n",
       "    <tr>\n",
       "      <th>292148</th>\n",
       "      <td>7/12/2023</td>\n",
       "      <td>US</td>\n",
       "      <td>United States of America</td>\n",
       "      <td>AMRO</td>\n",
       "      <td>0</td>\n",
       "      <td>103436829</td>\n",
       "      <td>0</td>\n",
       "      <td>1127152</td>\n",
       "    </tr>\n",
       "  </tbody>\n",
       "</table>\n",
       "<p>1287 rows × 8 columns</p>\n",
       "</div>"
      ],
      "text/plain": [
       "       Date_reported Country_code                   Country WHO_region  \\\n",
       "290862      1/3/2020           US  United States of America       AMRO   \n",
       "290863      1/4/2020           US  United States of America       AMRO   \n",
       "290864      1/5/2020           US  United States of America       AMRO   \n",
       "290865      1/6/2020           US  United States of America       AMRO   \n",
       "290866      1/7/2020           US  United States of America       AMRO   \n",
       "...              ...          ...                       ...        ...   \n",
       "292144      7/8/2023           US  United States of America       AMRO   \n",
       "292145      7/9/2023           US  United States of America       AMRO   \n",
       "292146     7/10/2023           US  United States of America       AMRO   \n",
       "292147     7/11/2023           US  United States of America       AMRO   \n",
       "292148     7/12/2023           US  United States of America       AMRO   \n",
       "\n",
       "        New_cases  Cumulative_cases  New_deaths  Cumulative_deaths  \n",
       "290862          0                 0           0                  0  \n",
       "290863          0                 0           0                  0  \n",
       "290864          0                 0           0                  0  \n",
       "290865          0                 0           0                  0  \n",
       "290866          0                 0           0                  0  \n",
       "...           ...               ...         ...                ...  \n",
       "292144          0         103436829           0            1127152  \n",
       "292145          0         103436829           0            1127152  \n",
       "292146          0         103436829           0            1127152  \n",
       "292147          0         103436829           0            1127152  \n",
       "292148          0         103436829           0            1127152  \n",
       "\n",
       "[1287 rows x 8 columns]"
      ]
     },
     "execution_count": 29,
     "metadata": {},
     "output_type": "execute_result"
    }
   ],
   "source": [
    "data[data.Country == 'United States of America']"
   ]
  },
  {
   "cell_type": "code",
   "execution_count": 31,
   "id": "838a4fba",
   "metadata": {},
   "outputs": [
    {
     "data": {
      "text/html": [
       "<div>\n",
       "<style scoped>\n",
       "    .dataframe tbody tr th:only-of-type {\n",
       "        vertical-align: middle;\n",
       "    }\n",
       "\n",
       "    .dataframe tbody tr th {\n",
       "        vertical-align: top;\n",
       "    }\n",
       "\n",
       "    .dataframe thead th {\n",
       "        text-align: right;\n",
       "    }\n",
       "</style>\n",
       "<table border=\"1\" class=\"dataframe\">\n",
       "  <thead>\n",
       "    <tr style=\"text-align: right;\">\n",
       "      <th></th>\n",
       "      <th>Date_reported</th>\n",
       "      <th>Country_code</th>\n",
       "      <th>Country</th>\n",
       "      <th>WHO_region</th>\n",
       "      <th>New_cases</th>\n",
       "      <th>Cumulative_cases</th>\n",
       "      <th>New_deaths</th>\n",
       "      <th>Cumulative_deaths</th>\n",
       "    </tr>\n",
       "  </thead>\n",
       "  <tbody>\n",
       "    <tr>\n",
       "      <th>31137</th>\n",
       "      <td>9/8/2020</td>\n",
       "      <td>BO</td>\n",
       "      <td>Bolivia (Plurinational State of)</td>\n",
       "      <td>AMRO</td>\n",
       "      <td>528</td>\n",
       "      <td>120769</td>\n",
       "      <td>1610</td>\n",
       "      <td>7008</td>\n",
       "    </tr>\n",
       "    <tr>\n",
       "      <th>36175</th>\n",
       "      <td>5/21/2020</td>\n",
       "      <td>BR</td>\n",
       "      <td>Brazil</td>\n",
       "      <td>AMRO</td>\n",
       "      <td>17408</td>\n",
       "      <td>271628</td>\n",
       "      <td>1179</td>\n",
       "      <td>17971</td>\n",
       "    </tr>\n",
       "    <tr>\n",
       "      <th>36177</th>\n",
       "      <td>5/23/2020</td>\n",
       "      <td>BR</td>\n",
       "      <td>Brazil</td>\n",
       "      <td>AMRO</td>\n",
       "      <td>18508</td>\n",
       "      <td>310087</td>\n",
       "      <td>1188</td>\n",
       "      <td>20047</td>\n",
       "    </tr>\n",
       "    <tr>\n",
       "      <th>36178</th>\n",
       "      <td>5/24/2020</td>\n",
       "      <td>BR</td>\n",
       "      <td>Brazil</td>\n",
       "      <td>AMRO</td>\n",
       "      <td>20803</td>\n",
       "      <td>330890</td>\n",
       "      <td>1001</td>\n",
       "      <td>21048</td>\n",
       "    </tr>\n",
       "    <tr>\n",
       "      <th>36182</th>\n",
       "      <td>5/28/2020</td>\n",
       "      <td>BR</td>\n",
       "      <td>Brazil</td>\n",
       "      <td>AMRO</td>\n",
       "      <td>16324</td>\n",
       "      <td>391222</td>\n",
       "      <td>1039</td>\n",
       "      <td>24512</td>\n",
       "    </tr>\n",
       "    <tr>\n",
       "      <th>...</th>\n",
       "      <td>...</td>\n",
       "      <td>...</td>\n",
       "      <td>...</td>\n",
       "      <td>...</td>\n",
       "      <td>...</td>\n",
       "      <td>...</td>\n",
       "      <td>...</td>\n",
       "      <td>...</td>\n",
       "    </tr>\n",
       "    <tr>\n",
       "      <th>292061</th>\n",
       "      <td>4/16/2023</td>\n",
       "      <td>US</td>\n",
       "      <td>United States of America</td>\n",
       "      <td>AMRO</td>\n",
       "      <td>104057</td>\n",
       "      <td>103081453</td>\n",
       "      <td>1290</td>\n",
       "      <td>1121819</td>\n",
       "    </tr>\n",
       "    <tr>\n",
       "      <th>292068</th>\n",
       "      <td>4/23/2023</td>\n",
       "      <td>US</td>\n",
       "      <td>United States of America</td>\n",
       "      <td>AMRO</td>\n",
       "      <td>98467</td>\n",
       "      <td>103179920</td>\n",
       "      <td>1198</td>\n",
       "      <td>1123017</td>\n",
       "    </tr>\n",
       "    <tr>\n",
       "      <th>292075</th>\n",
       "      <td>4/30/2023</td>\n",
       "      <td>US</td>\n",
       "      <td>United States of America</td>\n",
       "      <td>AMRO</td>\n",
       "      <td>86484</td>\n",
       "      <td>103266404</td>\n",
       "      <td>1046</td>\n",
       "      <td>1124063</td>\n",
       "    </tr>\n",
       "    <tr>\n",
       "      <th>292082</th>\n",
       "      <td>5/7/2023</td>\n",
       "      <td>US</td>\n",
       "      <td>United States of America</td>\n",
       "      <td>AMRO</td>\n",
       "      <td>77165</td>\n",
       "      <td>103343569</td>\n",
       "      <td>1146</td>\n",
       "      <td>1125209</td>\n",
       "    </tr>\n",
       "    <tr>\n",
       "      <th>292089</th>\n",
       "      <td>5/14/2023</td>\n",
       "      <td>US</td>\n",
       "      <td>United States of America</td>\n",
       "      <td>AMRO</td>\n",
       "      <td>93260</td>\n",
       "      <td>103436829</td>\n",
       "      <td>1943</td>\n",
       "      <td>1127152</td>\n",
       "    </tr>\n",
       "  </tbody>\n",
       "</table>\n",
       "<p>1234 rows × 8 columns</p>\n",
       "</div>"
      ],
      "text/plain": [
       "       Date_reported Country_code                           Country  \\\n",
       "31137       9/8/2020           BO  Bolivia (Plurinational State of)   \n",
       "36175      5/21/2020           BR                            Brazil   \n",
       "36177      5/23/2020           BR                            Brazil   \n",
       "36178      5/24/2020           BR                            Brazil   \n",
       "36182      5/28/2020           BR                            Brazil   \n",
       "...              ...          ...                               ...   \n",
       "292061     4/16/2023           US          United States of America   \n",
       "292068     4/23/2023           US          United States of America   \n",
       "292075     4/30/2023           US          United States of America   \n",
       "292082      5/7/2023           US          United States of America   \n",
       "292089     5/14/2023           US          United States of America   \n",
       "\n",
       "       WHO_region  New_cases  Cumulative_cases  New_deaths  Cumulative_deaths  \n",
       "31137        AMRO        528            120769        1610               7008  \n",
       "36175        AMRO      17408            271628        1179              17971  \n",
       "36177        AMRO      18508            310087        1188              20047  \n",
       "36178        AMRO      20803            330890        1001              21048  \n",
       "36182        AMRO      16324            391222        1039              24512  \n",
       "...           ...        ...               ...         ...                ...  \n",
       "292061       AMRO     104057         103081453        1290            1121819  \n",
       "292068       AMRO      98467         103179920        1198            1123017  \n",
       "292075       AMRO      86484         103266404        1046            1124063  \n",
       "292082       AMRO      77165         103343569        1146            1125209  \n",
       "292089       AMRO      93260         103436829        1943            1127152  \n",
       "\n",
       "[1234 rows x 8 columns]"
      ]
     },
     "execution_count": 31,
     "metadata": {},
     "output_type": "execute_result"
    }
   ],
   "source": [
    "data[data.New_deaths > 1000]"
   ]
  },
  {
   "cell_type": "code",
   "execution_count": 32,
   "id": "f6a50616",
   "metadata": {},
   "outputs": [
    {
     "name": "stdout",
     "output_type": "stream",
     "text": [
      "<class 'pandas.core.frame.DataFrame'>\n",
      "RangeIndex: 305019 entries, 0 to 305018\n",
      "Data columns (total 8 columns):\n",
      " #   Column             Non-Null Count   Dtype \n",
      "---  ------             --------------   ----- \n",
      " 0   Date_reported      305019 non-null  object\n",
      " 1   Country_code       303732 non-null  object\n",
      " 2   Country            305019 non-null  object\n",
      " 3   WHO_region         305019 non-null  object\n",
      " 4   New_cases          305019 non-null  int64 \n",
      " 5   Cumulative_cases   305019 non-null  int64 \n",
      " 6   New_deaths         305019 non-null  int64 \n",
      " 7   Cumulative_deaths  305019 non-null  int64 \n",
      "dtypes: int64(4), object(4)\n",
      "memory usage: 18.6+ MB\n"
     ]
    }
   ],
   "source": [
    "data.info()"
   ]
  },
  {
   "cell_type": "code",
   "execution_count": 33,
   "id": "749a696b",
   "metadata": {},
   "outputs": [
    {
     "data": {
      "text/plain": [
       "0         Afghanistan\n",
       "1         Afghanistan\n",
       "2         Afghanistan\n",
       "3         Afghanistan\n",
       "4         Afghanistan\n",
       "             ...     \n",
       "305014       Zimbabwe\n",
       "305015       Zimbabwe\n",
       "305016       Zimbabwe\n",
       "305017       Zimbabwe\n",
       "305018       Zimbabwe\n",
       "Name: Country, Length: 305019, dtype: object"
      ]
     },
     "execution_count": 33,
     "metadata": {},
     "output_type": "execute_result"
    }
   ],
   "source": [
    "data.Country"
   ]
  },
  {
   "cell_type": "code",
   "execution_count": 37,
   "id": "2b529e4e",
   "metadata": {},
   "outputs": [
    {
     "data": {
      "text/plain": [
       "0         False\n",
       "1         False\n",
       "2         False\n",
       "3         False\n",
       "4         False\n",
       "          ...  \n",
       "305014    False\n",
       "305015    False\n",
       "305016    False\n",
       "305017    False\n",
       "305018    False\n",
       "Name: Country, Length: 305019, dtype: bool"
      ]
     },
     "execution_count": 37,
     "metadata": {},
     "output_type": "execute_result"
    }
   ],
   "source": [
    "data.Country == 'The United Kingdom'"
   ]
  },
  {
   "cell_type": "code",
   "execution_count": 38,
   "id": "7bb77cb7",
   "metadata": {},
   "outputs": [
    {
     "data": {
      "text/html": [
       "<div>\n",
       "<style scoped>\n",
       "    .dataframe tbody tr th:only-of-type {\n",
       "        vertical-align: middle;\n",
       "    }\n",
       "\n",
       "    .dataframe tbody tr th {\n",
       "        vertical-align: top;\n",
       "    }\n",
       "\n",
       "    .dataframe thead th {\n",
       "        text-align: right;\n",
       "    }\n",
       "</style>\n",
       "<table border=\"1\" class=\"dataframe\">\n",
       "  <thead>\n",
       "    <tr style=\"text-align: right;\">\n",
       "      <th></th>\n",
       "      <th>Date_reported</th>\n",
       "      <th>Country_code</th>\n",
       "      <th>Country</th>\n",
       "      <th>WHO_region</th>\n",
       "      <th>New_cases</th>\n",
       "      <th>Cumulative_cases</th>\n",
       "      <th>New_deaths</th>\n",
       "      <th>Cumulative_deaths</th>\n",
       "    </tr>\n",
       "  </thead>\n",
       "  <tbody>\n",
       "    <tr>\n",
       "      <th>271557</th>\n",
       "      <td>1/3/2020</td>\n",
       "      <td>GB</td>\n",
       "      <td>The United Kingdom</td>\n",
       "      <td>EURO</td>\n",
       "      <td>0</td>\n",
       "      <td>0</td>\n",
       "      <td>0</td>\n",
       "      <td>0</td>\n",
       "    </tr>\n",
       "    <tr>\n",
       "      <th>271558</th>\n",
       "      <td>1/4/2020</td>\n",
       "      <td>GB</td>\n",
       "      <td>The United Kingdom</td>\n",
       "      <td>EURO</td>\n",
       "      <td>0</td>\n",
       "      <td>0</td>\n",
       "      <td>0</td>\n",
       "      <td>0</td>\n",
       "    </tr>\n",
       "    <tr>\n",
       "      <th>271559</th>\n",
       "      <td>1/5/2020</td>\n",
       "      <td>GB</td>\n",
       "      <td>The United Kingdom</td>\n",
       "      <td>EURO</td>\n",
       "      <td>0</td>\n",
       "      <td>0</td>\n",
       "      <td>0</td>\n",
       "      <td>0</td>\n",
       "    </tr>\n",
       "    <tr>\n",
       "      <th>271560</th>\n",
       "      <td>1/6/2020</td>\n",
       "      <td>GB</td>\n",
       "      <td>The United Kingdom</td>\n",
       "      <td>EURO</td>\n",
       "      <td>0</td>\n",
       "      <td>0</td>\n",
       "      <td>0</td>\n",
       "      <td>0</td>\n",
       "    </tr>\n",
       "    <tr>\n",
       "      <th>271561</th>\n",
       "      <td>1/7/2020</td>\n",
       "      <td>GB</td>\n",
       "      <td>The United Kingdom</td>\n",
       "      <td>EURO</td>\n",
       "      <td>0</td>\n",
       "      <td>0</td>\n",
       "      <td>0</td>\n",
       "      <td>0</td>\n",
       "    </tr>\n",
       "    <tr>\n",
       "      <th>...</th>\n",
       "      <td>...</td>\n",
       "      <td>...</td>\n",
       "      <td>...</td>\n",
       "      <td>...</td>\n",
       "      <td>...</td>\n",
       "      <td>...</td>\n",
       "      <td>...</td>\n",
       "      <td>...</td>\n",
       "    </tr>\n",
       "    <tr>\n",
       "      <th>272839</th>\n",
       "      <td>7/8/2023</td>\n",
       "      <td>GB</td>\n",
       "      <td>The United Kingdom</td>\n",
       "      <td>EURO</td>\n",
       "      <td>0</td>\n",
       "      <td>24641348</td>\n",
       "      <td>0</td>\n",
       "      <td>227928</td>\n",
       "    </tr>\n",
       "    <tr>\n",
       "      <th>272840</th>\n",
       "      <td>7/9/2023</td>\n",
       "      <td>GB</td>\n",
       "      <td>The United Kingdom</td>\n",
       "      <td>EURO</td>\n",
       "      <td>0</td>\n",
       "      <td>24641348</td>\n",
       "      <td>0</td>\n",
       "      <td>227928</td>\n",
       "    </tr>\n",
       "    <tr>\n",
       "      <th>272841</th>\n",
       "      <td>7/10/2023</td>\n",
       "      <td>GB</td>\n",
       "      <td>The United Kingdom</td>\n",
       "      <td>EURO</td>\n",
       "      <td>0</td>\n",
       "      <td>24641348</td>\n",
       "      <td>0</td>\n",
       "      <td>227928</td>\n",
       "    </tr>\n",
       "    <tr>\n",
       "      <th>272842</th>\n",
       "      <td>7/11/2023</td>\n",
       "      <td>GB</td>\n",
       "      <td>The United Kingdom</td>\n",
       "      <td>EURO</td>\n",
       "      <td>0</td>\n",
       "      <td>24641348</td>\n",
       "      <td>0</td>\n",
       "      <td>227928</td>\n",
       "    </tr>\n",
       "    <tr>\n",
       "      <th>272843</th>\n",
       "      <td>7/12/2023</td>\n",
       "      <td>GB</td>\n",
       "      <td>The United Kingdom</td>\n",
       "      <td>EURO</td>\n",
       "      <td>0</td>\n",
       "      <td>24641348</td>\n",
       "      <td>0</td>\n",
       "      <td>227928</td>\n",
       "    </tr>\n",
       "  </tbody>\n",
       "</table>\n",
       "<p>1287 rows × 8 columns</p>\n",
       "</div>"
      ],
      "text/plain": [
       "       Date_reported Country_code             Country WHO_region  New_cases  \\\n",
       "271557      1/3/2020           GB  The United Kingdom       EURO          0   \n",
       "271558      1/4/2020           GB  The United Kingdom       EURO          0   \n",
       "271559      1/5/2020           GB  The United Kingdom       EURO          0   \n",
       "271560      1/6/2020           GB  The United Kingdom       EURO          0   \n",
       "271561      1/7/2020           GB  The United Kingdom       EURO          0   \n",
       "...              ...          ...                 ...        ...        ...   \n",
       "272839      7/8/2023           GB  The United Kingdom       EURO          0   \n",
       "272840      7/9/2023           GB  The United Kingdom       EURO          0   \n",
       "272841     7/10/2023           GB  The United Kingdom       EURO          0   \n",
       "272842     7/11/2023           GB  The United Kingdom       EURO          0   \n",
       "272843     7/12/2023           GB  The United Kingdom       EURO          0   \n",
       "\n",
       "        Cumulative_cases  New_deaths  Cumulative_deaths  \n",
       "271557                 0           0                  0  \n",
       "271558                 0           0                  0  \n",
       "271559                 0           0                  0  \n",
       "271560                 0           0                  0  \n",
       "271561                 0           0                  0  \n",
       "...                  ...         ...                ...  \n",
       "272839          24641348           0             227928  \n",
       "272840          24641348           0             227928  \n",
       "272841          24641348           0             227928  \n",
       "272842          24641348           0             227928  \n",
       "272843          24641348           0             227928  \n",
       "\n",
       "[1287 rows x 8 columns]"
      ]
     },
     "execution_count": 38,
     "metadata": {},
     "output_type": "execute_result"
    }
   ],
   "source": [
    "data[data.Country == 'The United Kingdom']"
   ]
  },
  {
   "cell_type": "code",
   "execution_count": 39,
   "id": "e1262efe",
   "metadata": {},
   "outputs": [
    {
     "data": {
      "text/html": [
       "<div>\n",
       "<style scoped>\n",
       "    .dataframe tbody tr th:only-of-type {\n",
       "        vertical-align: middle;\n",
       "    }\n",
       "\n",
       "    .dataframe tbody tr th {\n",
       "        vertical-align: top;\n",
       "    }\n",
       "\n",
       "    .dataframe thead th {\n",
       "        text-align: right;\n",
       "    }\n",
       "</style>\n",
       "<table border=\"1\" class=\"dataframe\">\n",
       "  <thead>\n",
       "    <tr style=\"text-align: right;\">\n",
       "      <th></th>\n",
       "      <th>New_deaths</th>\n",
       "      <th>Country</th>\n",
       "    </tr>\n",
       "  </thead>\n",
       "  <tbody>\n",
       "    <tr>\n",
       "      <th>31137</th>\n",
       "      <td>1610</td>\n",
       "      <td>Bolivia (Plurinational State of)</td>\n",
       "    </tr>\n",
       "    <tr>\n",
       "      <th>36175</th>\n",
       "      <td>1179</td>\n",
       "      <td>Brazil</td>\n",
       "    </tr>\n",
       "    <tr>\n",
       "      <th>36177</th>\n",
       "      <td>1188</td>\n",
       "      <td>Brazil</td>\n",
       "    </tr>\n",
       "    <tr>\n",
       "      <th>36178</th>\n",
       "      <td>1001</td>\n",
       "      <td>Brazil</td>\n",
       "    </tr>\n",
       "    <tr>\n",
       "      <th>36182</th>\n",
       "      <td>1039</td>\n",
       "      <td>Brazil</td>\n",
       "    </tr>\n",
       "    <tr>\n",
       "      <th>...</th>\n",
       "      <td>...</td>\n",
       "      <td>...</td>\n",
       "    </tr>\n",
       "    <tr>\n",
       "      <th>292061</th>\n",
       "      <td>1290</td>\n",
       "      <td>United States of America</td>\n",
       "    </tr>\n",
       "    <tr>\n",
       "      <th>292068</th>\n",
       "      <td>1198</td>\n",
       "      <td>United States of America</td>\n",
       "    </tr>\n",
       "    <tr>\n",
       "      <th>292075</th>\n",
       "      <td>1046</td>\n",
       "      <td>United States of America</td>\n",
       "    </tr>\n",
       "    <tr>\n",
       "      <th>292082</th>\n",
       "      <td>1146</td>\n",
       "      <td>United States of America</td>\n",
       "    </tr>\n",
       "    <tr>\n",
       "      <th>292089</th>\n",
       "      <td>1943</td>\n",
       "      <td>United States of America</td>\n",
       "    </tr>\n",
       "  </tbody>\n",
       "</table>\n",
       "<p>1234 rows × 2 columns</p>\n",
       "</div>"
      ],
      "text/plain": [
       "        New_deaths                           Country\n",
       "31137         1610  Bolivia (Plurinational State of)\n",
       "36175         1179                            Brazil\n",
       "36177         1188                            Brazil\n",
       "36178         1001                            Brazil\n",
       "36182         1039                            Brazil\n",
       "...            ...                               ...\n",
       "292061        1290          United States of America\n",
       "292068        1198          United States of America\n",
       "292075        1046          United States of America\n",
       "292082        1146          United States of America\n",
       "292089        1943          United States of America\n",
       "\n",
       "[1234 rows x 2 columns]"
      ]
     },
     "execution_count": 39,
     "metadata": {},
     "output_type": "execute_result"
    }
   ],
   "source": [
    "data.loc[data.New_deaths > 1000, ['New_deaths', 'Country']]"
   ]
  },
  {
   "cell_type": "code",
   "execution_count": 42,
   "id": "71f6f413",
   "metadata": {},
   "outputs": [
    {
     "data": {
      "text/plain": [
       "New_cases    1265520\n",
       "dtype: int64"
      ]
     },
     "execution_count": 42,
     "metadata": {},
     "output_type": "execute_result"
    }
   ],
   "source": [
    "data.loc[data.Country_code =='US', ['New_cases']].max()"
   ]
  },
  {
   "cell_type": "code",
   "execution_count": 43,
   "id": "05ef5b4e",
   "metadata": {},
   "outputs": [
    {
     "data": {
      "text/plain": [
       "New_cases    0\n",
       "dtype: int64"
      ]
     },
     "execution_count": 43,
     "metadata": {},
     "output_type": "execute_result"
    }
   ],
   "source": [
    "data.loc[data.Country_code =='US', ['New_cases']].min()"
   ]
  },
  {
   "cell_type": "code",
   "execution_count": 44,
   "id": "b7b64548",
   "metadata": {},
   "outputs": [
    {
     "data": {
      "text/plain": [
       "New_cases    103436829\n",
       "dtype: int64"
      ]
     },
     "execution_count": 44,
     "metadata": {},
     "output_type": "execute_result"
    }
   ],
   "source": [
    "data.loc[data.Country_code =='US', ['New_cases']].sum()"
   ]
  },
  {
   "cell_type": "code",
   "execution_count": 45,
   "id": "aa239368",
   "metadata": {},
   "outputs": [
    {
     "data": {
      "text/plain": [
       "Cumulative_deaths    1127152\n",
       "dtype: int64"
      ]
     },
     "execution_count": 45,
     "metadata": {},
     "output_type": "execute_result"
    }
   ],
   "source": [
    "data.loc[data.Country_code =='US', ['Cumulative_deaths']].max()"
   ]
  },
  {
   "cell_type": "code",
   "execution_count": 50,
   "id": "fe9208ae",
   "metadata": {},
   "outputs": [
    {
     "data": {
      "text/plain": [
       "53576"
      ]
     },
     "execution_count": 50,
     "metadata": {},
     "output_type": "execute_result"
    }
   ],
   "source": [
    "data.New_deaths.idxmax()"
   ]
  },
  {
   "cell_type": "code",
   "execution_count": 52,
   "id": "6e0a0f25",
   "metadata": {},
   "outputs": [
    {
     "name": "stdout",
     "output_type": "stream",
     "text": [
      "<class 'pandas.core.frame.DataFrame'>\n",
      "RangeIndex: 305019 entries, 0 to 305018\n",
      "Data columns (total 8 columns):\n",
      " #   Column             Non-Null Count   Dtype \n",
      "---  ------             --------------   ----- \n",
      " 0   Date_reported      305019 non-null  object\n",
      " 1   Country_code       303732 non-null  object\n",
      " 2   Country            305019 non-null  object\n",
      " 3   WHO_region         305019 non-null  object\n",
      " 4   New_cases          305019 non-null  int64 \n",
      " 5   Cumulative_cases   305019 non-null  int64 \n",
      " 6   New_deaths         305019 non-null  int64 \n",
      " 7   Cumulative_deaths  305019 non-null  int64 \n",
      "dtypes: int64(4), object(4)\n",
      "memory usage: 18.6+ MB\n"
     ]
    }
   ],
   "source": [
    "data.info()"
   ]
  },
  {
   "cell_type": "code",
   "execution_count": 55,
   "id": "8736d8dd",
   "metadata": {},
   "outputs": [
    {
     "data": {
      "text/html": [
       "<div>\n",
       "<style scoped>\n",
       "    .dataframe tbody tr th:only-of-type {\n",
       "        vertical-align: middle;\n",
       "    }\n",
       "\n",
       "    .dataframe tbody tr th {\n",
       "        vertical-align: top;\n",
       "    }\n",
       "\n",
       "    .dataframe thead th {\n",
       "        text-align: right;\n",
       "    }\n",
       "</style>\n",
       "<table border=\"1\" class=\"dataframe\">\n",
       "  <thead>\n",
       "    <tr style=\"text-align: right;\">\n",
       "      <th></th>\n",
       "      <th>Date_reported</th>\n",
       "      <th>Country_code</th>\n",
       "      <th>Country</th>\n",
       "      <th>WHO_region</th>\n",
       "      <th>New_cases</th>\n",
       "      <th>Cumulative_cases</th>\n",
       "      <th>New_deaths</th>\n",
       "      <th>Cumulative_deaths</th>\n",
       "    </tr>\n",
       "  </thead>\n",
       "  <tbody>\n",
       "    <tr>\n",
       "      <th>0</th>\n",
       "      <td>1/3/2020</td>\n",
       "      <td>AF</td>\n",
       "      <td>Afghanistan</td>\n",
       "      <td>EMRO</td>\n",
       "      <td>0</td>\n",
       "      <td>0</td>\n",
       "      <td>0</td>\n",
       "      <td>0</td>\n",
       "    </tr>\n",
       "    <tr>\n",
       "      <th>1</th>\n",
       "      <td>1/4/2020</td>\n",
       "      <td>AF</td>\n",
       "      <td>Afghanistan</td>\n",
       "      <td>EMRO</td>\n",
       "      <td>0</td>\n",
       "      <td>0</td>\n",
       "      <td>0</td>\n",
       "      <td>0</td>\n",
       "    </tr>\n",
       "    <tr>\n",
       "      <th>2</th>\n",
       "      <td>1/5/2020</td>\n",
       "      <td>AF</td>\n",
       "      <td>Afghanistan</td>\n",
       "      <td>EMRO</td>\n",
       "      <td>0</td>\n",
       "      <td>0</td>\n",
       "      <td>0</td>\n",
       "      <td>0</td>\n",
       "    </tr>\n",
       "    <tr>\n",
       "      <th>3</th>\n",
       "      <td>1/6/2020</td>\n",
       "      <td>AF</td>\n",
       "      <td>Afghanistan</td>\n",
       "      <td>EMRO</td>\n",
       "      <td>0</td>\n",
       "      <td>0</td>\n",
       "      <td>0</td>\n",
       "      <td>0</td>\n",
       "    </tr>\n",
       "    <tr>\n",
       "      <th>4</th>\n",
       "      <td>1/7/2020</td>\n",
       "      <td>AF</td>\n",
       "      <td>Afghanistan</td>\n",
       "      <td>EMRO</td>\n",
       "      <td>0</td>\n",
       "      <td>0</td>\n",
       "      <td>0</td>\n",
       "      <td>0</td>\n",
       "    </tr>\n",
       "    <tr>\n",
       "      <th>...</th>\n",
       "      <td>...</td>\n",
       "      <td>...</td>\n",
       "      <td>...</td>\n",
       "      <td>...</td>\n",
       "      <td>...</td>\n",
       "      <td>...</td>\n",
       "      <td>...</td>\n",
       "      <td>...</td>\n",
       "    </tr>\n",
       "    <tr>\n",
       "      <th>305014</th>\n",
       "      <td>7/8/2023</td>\n",
       "      <td>ZW</td>\n",
       "      <td>Zimbabwe</td>\n",
       "      <td>AFRO</td>\n",
       "      <td>0</td>\n",
       "      <td>265604</td>\n",
       "      <td>0</td>\n",
       "      <td>5709</td>\n",
       "    </tr>\n",
       "    <tr>\n",
       "      <th>305015</th>\n",
       "      <td>7/9/2023</td>\n",
       "      <td>ZW</td>\n",
       "      <td>Zimbabwe</td>\n",
       "      <td>AFRO</td>\n",
       "      <td>0</td>\n",
       "      <td>265604</td>\n",
       "      <td>0</td>\n",
       "      <td>5709</td>\n",
       "    </tr>\n",
       "    <tr>\n",
       "      <th>305016</th>\n",
       "      <td>7/10/2023</td>\n",
       "      <td>ZW</td>\n",
       "      <td>Zimbabwe</td>\n",
       "      <td>AFRO</td>\n",
       "      <td>0</td>\n",
       "      <td>265604</td>\n",
       "      <td>0</td>\n",
       "      <td>5709</td>\n",
       "    </tr>\n",
       "    <tr>\n",
       "      <th>305017</th>\n",
       "      <td>7/11/2023</td>\n",
       "      <td>ZW</td>\n",
       "      <td>Zimbabwe</td>\n",
       "      <td>AFRO</td>\n",
       "      <td>0</td>\n",
       "      <td>265604</td>\n",
       "      <td>0</td>\n",
       "      <td>5709</td>\n",
       "    </tr>\n",
       "    <tr>\n",
       "      <th>305018</th>\n",
       "      <td>7/12/2023</td>\n",
       "      <td>ZW</td>\n",
       "      <td>Zimbabwe</td>\n",
       "      <td>AFRO</td>\n",
       "      <td>0</td>\n",
       "      <td>265604</td>\n",
       "      <td>0</td>\n",
       "      <td>5709</td>\n",
       "    </tr>\n",
       "  </tbody>\n",
       "</table>\n",
       "<p>305019 rows × 8 columns</p>\n",
       "</div>"
      ],
      "text/plain": [
       "       Date_reported Country_code      Country WHO_region  New_cases  \\\n",
       "0           1/3/2020           AF  Afghanistan       EMRO          0   \n",
       "1           1/4/2020           AF  Afghanistan       EMRO          0   \n",
       "2           1/5/2020           AF  Afghanistan       EMRO          0   \n",
       "3           1/6/2020           AF  Afghanistan       EMRO          0   \n",
       "4           1/7/2020           AF  Afghanistan       EMRO          0   \n",
       "...              ...          ...          ...        ...        ...   \n",
       "305014      7/8/2023           ZW     Zimbabwe       AFRO          0   \n",
       "305015      7/9/2023           ZW     Zimbabwe       AFRO          0   \n",
       "305016     7/10/2023           ZW     Zimbabwe       AFRO          0   \n",
       "305017     7/11/2023           ZW     Zimbabwe       AFRO          0   \n",
       "305018     7/12/2023           ZW     Zimbabwe       AFRO          0   \n",
       "\n",
       "        Cumulative_cases  New_deaths  Cumulative_deaths  \n",
       "0                      0           0                  0  \n",
       "1                      0           0                  0  \n",
       "2                      0           0                  0  \n",
       "3                      0           0                  0  \n",
       "4                      0           0                  0  \n",
       "...                  ...         ...                ...  \n",
       "305014            265604           0               5709  \n",
       "305015            265604           0               5709  \n",
       "305016            265604           0               5709  \n",
       "305017            265604           0               5709  \n",
       "305018            265604           0               5709  \n",
       "\n",
       "[305019 rows x 8 columns]"
      ]
     },
     "execution_count": 55,
     "metadata": {},
     "output_type": "execute_result"
    }
   ],
   "source": [
    "data"
   ]
  },
  {
   "cell_type": "code",
   "execution_count": 64,
   "id": "9ffe9b04",
   "metadata": {},
   "outputs": [],
   "source": [
    "width = 25\n",
    "height = 8\n",
    "sns.set(rc = {'figure.figsize':(width, height)})"
   ]
  },
  {
   "cell_type": "code",
   "execution_count": 65,
   "id": "68ab5462",
   "metadata": {},
   "outputs": [
    {
     "data": {
      "text/plain": [
       "<Axes: xlabel='Date_reported', ylabel='New_cases'>"
      ]
     },
     "execution_count": 65,
     "metadata": {},
     "output_type": "execute_result"
    },
    {
     "data": {
      "image/png": "[encoded data removed]",
      "text/plain": [
       "<Figure size 2500x800 with 1 Axes>"
      ]
     },
     "metadata": {},
     "output_type": "display_data"
    }
   ],
   "source": [
    "sns.scatterplot(data=data, x=\"Date_reported\", y=\"New_cases\")"
   ]
  },
  {
   "cell_type": "code",
   "execution_count": 66,
   "id": "1464cac3",
   "metadata": {},
   "outputs": [
    {
     "data": {
      "text/plain": [
       "<Axes: xlabel='Date_reported', ylabel='New_deaths'>"
      ]
     },
     "execution_count": 66,
     "metadata": {},
     "output_type": "execute_result"
    },
    {
     "data": {
      "image/png": "[encoded data removed]",
      "text/plain": [
       "<Figure size 2500x800 with 1 Axes>"
      ]
     },
     "metadata": {},
     "output_type": "display_data"
    }
   ],
   "source": [
    "sns.lineplot(data=data, x=\"Date_reported\", y=\"New_deaths\")"
   ]
  },
  {
   "cell_type": "code",
   "execution_count": null,
   "id": "279844bf",
   "metadata": {},
   "outputs": [],
   "source": []
  },
  {
   "cell_type": "code",
   "execution_count": null,
   "id": "b1666b99",
   "metadata": {},
   "outputs": [],
   "source": []
  }
 ],
 "metadata": {
  "kernelspec": {
   "display_name": "Python 3 (ipykernel)",
   "language": "python",
   "name": "python3"
  },
  "language_info": {
   "codemirror_mode": {
    "name": "ipython",
    "version": 3
   },
   "file_extension": ".py",
   "mimetype": "text/x-python",
   "name": "python",
   "nbconvert_exporter": "python",
   "pygments_lexer": "ipython3",
   "version": "3.10.9"
  }
 },
 "nbformat": 4,
 "nbformat_minor": 5
}
